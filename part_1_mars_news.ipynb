{
 "cells": [
  {
   "cell_type": "markdown",
   "metadata": {},
   "source": [
    "# Module 12 Challenge\n",
    "## Deliverable 1: Scrape Titles and Preview Text from Mars News"
   ]
  },
  {
   "cell_type": "code",
   "execution_count": 28,
   "metadata": {},
   "outputs": [],
   "source": [
    "# Import Splinter and BeautifulSoup\n",
    "from splinter import Browser\n",
    "from bs4 import BeautifulSoup as soup\n",
    "from webdriver_manager.chrome import ChromeDriverManager"
   ]
  },
  {
   "cell_type": "code",
   "execution_count": 30,
   "metadata": {},
   "outputs": [],
   "source": [
    "# !pip install selenium"
   ]
  },
  {
   "cell_type": "code",
   "execution_count": 31,
   "metadata": {
    "scrolled": true
   },
   "outputs": [],
   "source": [
    "executable_path = {'executable_path': ChromeDriverManager().install()}\n",
    "browser = Browser('chrome', **executable_path, headless=False)"
   ]
  },
  {
   "cell_type": "markdown",
   "metadata": {},
   "source": [
    "### Step 1: Visit the Website\n",
    "\n",
    "1. Use automated browsing to visit the [Mars NASA news site](https://redplanetscience.com). Inspect the page to identify which elements to scrape.\n",
    "\n",
    "      > **Hint** To identify which elements to scrape, you might want to inspect the page by using Chrome DevTools."
   ]
  },
  {
   "cell_type": "code",
   "execution_count": 32,
   "metadata": {},
   "outputs": [
    {
     "data": {
      "text/plain": [
       "True"
      ]
     },
     "execution_count": 32,
     "metadata": {},
     "output_type": "execute_result"
    }
   ],
   "source": [
    "# Visit the Mars NASA news site: https://redplanetscience.com\n",
    "url = 'https://redplanetscience.com'\n",
    "browser.visit(url)\n",
    "browser.is_element_present_by_css('div.list_text', wait_time=1)"
   ]
  },
  {
   "cell_type": "markdown",
   "metadata": {},
   "source": [
    "### Step 2: Scrape the Website\n",
    "\n",
    "Create a Beautiful Soup object and use it to extract text elements from the website."
   ]
  },
  {
   "cell_type": "code",
   "execution_count": 33,
   "metadata": {},
   "outputs": [],
   "source": [
    "# Create a Beautiful Soup object\n",
    "html= browser.html\n",
    "news_soup = soup(html, 'html.parser')"
   ]
  },
  {
   "cell_type": "code",
   "execution_count": 34,
   "metadata": {},
   "outputs": [
    {
     "name": "stdout",
     "output_type": "stream",
     "text": [
      "[<div class=\"list_text\">\n",
      "<div class=\"list_date\">January 3, 2023</div>\n",
      "<div class=\"content_title\">NASA's Mars Perseverance Rover Passes Flight Readiness Review</div>\n",
      "<div class=\"article_teaser_body\">​The agency's Mars 2020 mission has one more big prelaunch review – the Launch Readiness Review, on July 27.</div>\n",
      "</div>, <div class=\"list_text\">\n",
      "<div class=\"list_date\">January 2, 2023</div>\n",
      "<div class=\"content_title\">Meet the People Behind NASA's Perseverance Rover</div>\n",
      "<div class=\"article_teaser_body\">These are the scientists and engineers who built NASA's next Mars rover and who will guide it to a safe landing in Jezero Crater. </div>\n",
      "</div>, <div class=\"list_text\">\n",
      "<div class=\"list_date\">December 31, 2022</div>\n",
      "<div class=\"content_title\">NASA's MAVEN Observes Martian Night Sky Pulsing in Ultraviolet Light</div>\n",
      "<div class=\"article_teaser_body\">Vast areas of the Martian night sky pulse in ultraviolet light, according to images from NASA’s MAVEN spacecraft. The results are being used to illuminate complex circulation patterns in the Martian atmosphere.</div>\n",
      "</div>, <div class=\"list_text\">\n",
      "<div class=\"list_date\">December 30, 2022</div>\n",
      "<div class=\"content_title\">All About the Laser (and Microphone) Atop Mars 2020, NASA's Next Rover</div>\n",
      "<div class=\"article_teaser_body\">SuperCam is a rock-vaporizing instrument that will help scientists hunt for Mars fossils.</div>\n",
      "</div>, <div class=\"list_text\">\n",
      "<div class=\"list_date\">December 26, 2022</div>\n",
      "<div class=\"content_title\">Alabama High School Student Names NASA's Mars Helicopter</div>\n",
      "<div class=\"article_teaser_body\">Vaneeza Rupani's essay was chosen as the name for the small spacecraft, which will mark NASA's first attempt at powered flight on another planet.</div>\n",
      "</div>, <div class=\"list_text\">\n",
      "<div class=\"list_date\">December 24, 2022</div>\n",
      "<div class=\"content_title\">New Selfie Shows Curiosity, the Mars Chemist</div>\n",
      "<div class=\"article_teaser_body\">The NASA rover performed a special chemistry experiment at the location captured in its newest self-portrait.</div>\n",
      "</div>, <div class=\"list_text\">\n",
      "<div class=\"list_date\">December 23, 2022</div>\n",
      "<div class=\"content_title\">Join NASA for the Launch of the Mars 2020 Perseverance Rover</div>\n",
      "<div class=\"article_teaser_body\">No matter where you live, choose from a menu of activities to join NASA as we \"Countdown to Mars\" and launch the Perseverance rover to the Red Planet.</div>\n",
      "</div>, <div class=\"list_text\">\n",
      "<div class=\"list_date\">December 21, 2022</div>\n",
      "<div class=\"content_title\">How NASA's Mars Helicopter Will Reach the Red Planet's Surface</div>\n",
      "<div class=\"article_teaser_body\">The small craft will seek to prove that powered, controlled flight is possible on another planet. But just getting it onto the surface of Mars will take a whole lot of ingenuity.</div>\n",
      "</div>, <div class=\"list_text\">\n",
      "<div class=\"list_date\">December 16, 2022</div>\n",
      "<div class=\"content_title\">NASA InSight's 'Mole' Is Out of Sight</div>\n",
      "<div class=\"article_teaser_body\">Now that the heat probe is just below the Martian surface, InSight's arm will scoop some additional soil on top to help it keep digging so it can take Mars' temperature.</div>\n",
      "</div>, <div class=\"list_text\">\n",
      "<div class=\"list_date\">December 14, 2022</div>\n",
      "<div class=\"content_title\">NASA's Mars 2020 Rover Closer to Getting Its Name</div>\n",
      "<div class=\"article_teaser_body\">155 students from across the U.S. have been chosen as semifinalists in NASA's essay contest to name the Mars 2020 rover, and see it launch from Cape Canaveral this July.</div>\n",
      "</div>, <div class=\"list_text\">\n",
      "<div class=\"list_date\">December 11, 2022</div>\n",
      "<div class=\"content_title\">NASA's Perseverance Rover Is Midway to Mars </div>\n",
      "<div class=\"article_teaser_body\">Sometimes half measures can be a good thing – especially on a journey this long. The agency's latest rover only has about 146 million miles left to reach its destination.</div>\n",
      "</div>, <div class=\"list_text\">\n",
      "<div class=\"list_date\">December 10, 2022</div>\n",
      "<div class=\"content_title\">NASA Prepares for Moon and Mars With New Addition to Its Deep Space Network</div>\n",
      "<div class=\"article_teaser_body\">Robotic spacecraft will be able to communicate with the dish using radio waves and lasers.</div>\n",
      "</div>, <div class=\"list_text\">\n",
      "<div class=\"list_date\">December 9, 2022</div>\n",
      "<div class=\"content_title\">Robotic Toolkit Added to NASA's Mars 2020 Rover</div>\n",
      "<div class=\"article_teaser_body\">The bit carousel, which lies at the heart of the rover's Sample Caching System, is now aboard NASA's newest rover. </div>\n",
      "</div>, <div class=\"list_text\">\n",
      "<div class=\"list_date\">December 6, 2022</div>\n",
      "<div class=\"content_title\">NASA to Hold Mars 2020 Perseverance Rover Launch Briefing</div>\n",
      "<div class=\"article_teaser_body\">Learn more about the agency's next Red Planet mission during a live event on June 17.</div>\n",
      "</div>, <div class=\"list_text\">\n",
      "<div class=\"list_date\">December 4, 2022</div>\n",
      "<div class=\"content_title\">NASA's Perseverance Rover Will Peer Beneath Mars' Surface </div>\n",
      "<div class=\"article_teaser_body\">The agency's newest rover will use the first ground-penetrating radar instrument on the Martian surface to help search for signs of past microbial life. </div>\n",
      "</div>]\n"
     ]
    }
   ],
   "source": [
    "# Extract all the text elements\n",
    "slide_elem = news_soup.find_all(\"div\", class_=\"list_text\")\n",
    "print(slide_elem)"
   ]
  },
  {
   "cell_type": "markdown",
   "metadata": {},
   "source": [
    "### Step 3: Store the Results\n",
    "\n",
    "Extract the titles and preview text of the news articles that you scraped. Store the scraping results in Python data structures as follows:\n",
    "\n",
    "* Store each title-and-preview pair in a Python dictionary. And, give each dictionary two keys: `title` and `preview`. An example is the following:\n",
    "\n",
    "  ```python\n",
    "  {'title': \"Mars Rover Begins Mission!\", \n",
    "        'preview': \"NASA's Mars Rover begins a multiyear mission to collect data about the little-explored planet.\"}\n",
    "  ```\n",
    "\n",
    "* Store all the dictionaries in a Python list.\n",
    "\n",
    "* Print the list in your notebook."
   ]
  },
  {
   "cell_type": "code",
   "execution_count": 35,
   "metadata": {},
   "outputs": [],
   "source": [
    "# Create an empty list to store the dictionaries\n",
    "details = []"
   ]
  },
  {
   "cell_type": "code",
   "execution_count": 36,
   "metadata": {},
   "outputs": [],
   "source": [
    "# Loop through the text elements\n",
    "# Extract the title and preview text from the elements\n",
    "# Store each title and preview pair in a dictionary\n",
    "# Add the dictionary to the list\n",
    "rows = news_soup.find_all('div', class_='list_text')\n",
    "for row in rows:\n",
    "    details.append({\n",
    "        'title' : row.find('div', class_='content_title').text,\n",
    "        'preview' : row.find('div',class_='article_teaser_body').text.strip()\n",
    "    })"
   ]
  },
  {
   "cell_type": "code",
   "execution_count": 37,
   "metadata": {},
   "outputs": [
    {
     "name": "stdout",
     "output_type": "stream",
     "text": [
      "[{'title': \"NASA's Mars Perseverance Rover Passes Flight Readiness Review\", 'preview': \"\\u200bThe agency's Mars 2020 mission has one more big prelaunch review – the Launch Readiness Review, on July 27.\"}, {'title': \"Meet the People Behind NASA's Perseverance Rover\", 'preview': \"These are the scientists and engineers who built NASA's next Mars rover and who will guide it to a safe landing in Jezero Crater.\"}, {'title': \"NASA's MAVEN Observes Martian Night Sky Pulsing in Ultraviolet Light\", 'preview': 'Vast areas of the Martian night sky pulse in ultraviolet light, according to images from NASA’s MAVEN spacecraft. The results are being used to illuminate complex circulation patterns in the Martian atmosphere.'}, {'title': \"All About the Laser (and Microphone) Atop Mars 2020, NASA's Next Rover\", 'preview': 'SuperCam is a rock-vaporizing instrument that will help scientists hunt for Mars fossils.'}, {'title': \"Alabama High School Student Names NASA's Mars Helicopter\", 'preview': \"Vaneeza Rupani's essay was chosen as the name for the small spacecraft, which will mark NASA's first attempt at powered flight on another planet.\"}, {'title': 'New Selfie Shows Curiosity, the Mars Chemist', 'preview': 'The NASA rover performed a special chemistry experiment at the location captured in its newest self-portrait.'}, {'title': 'Join NASA for the Launch of the Mars 2020 Perseverance Rover', 'preview': 'No matter where you live, choose from a menu of activities to join NASA as we \"Countdown to Mars\" and launch the Perseverance rover to the Red Planet.'}, {'title': \"How NASA's Mars Helicopter Will Reach the Red Planet's Surface\", 'preview': 'The small craft will seek to prove that powered, controlled flight is possible on another planet. But just getting it onto the surface of Mars will take a whole lot of ingenuity.'}, {'title': \"NASA InSight's 'Mole' Is Out of Sight\", 'preview': \"Now that the heat probe is just below the Martian surface, InSight's arm will scoop some additional soil on top to help it keep digging so it can take Mars' temperature.\"}, {'title': \"NASA's Mars 2020 Rover Closer to Getting Its Name\", 'preview': \"155 students from across the U.S. have been chosen as semifinalists in NASA's essay contest to name the Mars 2020 rover, and see it launch from Cape Canaveral this July.\"}, {'title': \"NASA's Perseverance Rover Is Midway to Mars \", 'preview': \"Sometimes half measures can be a good thing – especially on a journey this long. The agency's latest rover only has about 146 million miles left to reach its destination.\"}, {'title': 'NASA Prepares for Moon and Mars With New Addition to Its Deep Space Network', 'preview': 'Robotic spacecraft will be able to communicate with the dish using radio waves and lasers.'}, {'title': \"Robotic Toolkit Added to NASA's Mars 2020 Rover\", 'preview': \"The bit carousel, which lies at the heart of the rover's Sample Caching System, is now aboard NASA's newest rover.\"}, {'title': 'NASA to Hold Mars 2020 Perseverance Rover Launch Briefing', 'preview': \"Learn more about the agency's next Red Planet mission during a live event on June 17.\"}, {'title': \"NASA's Perseverance Rover Will Peer Beneath Mars' Surface \", 'preview': \"The agency's newest rover will use the first ground-penetrating radar instrument on the Martian surface to help search for signs of past microbial life.\"}]\n"
     ]
    }
   ],
   "source": [
    "# Print the list to confirm success\n",
    "print(details)"
   ]
  },
  {
   "cell_type": "code",
   "execution_count": 38,
   "metadata": {},
   "outputs": [],
   "source": [
    "browser.quit()"
   ]
  },
  {
   "cell_type": "markdown",
   "metadata": {},
   "source": [
    "### (Optional) Step 4: Export the Data\n",
    "\n",
    "Optionally, store the scraped data in a file or database (to ease sharing the data with others). To do so, export the scraped data to either a JSON file or a MongoDB database."
   ]
  },
  {
   "cell_type": "code",
   "execution_count": null,
   "metadata": {},
   "outputs": [],
   "source": [
    "# Export data to JSON\n"
   ]
  },
  {
   "cell_type": "code",
   "execution_count": null,
   "metadata": {},
   "outputs": [],
   "source": [
    "# Export data to MongoDB\n"
   ]
  }
 ],
 "metadata": {
  "kernelspec": {
   "display_name": "Python 3 (ipykernel)",
   "language": "python",
   "name": "python3"
  },
  "language_info": {
   "codemirror_mode": {
    "name": "ipython",
    "version": 3
   },
   "file_extension": ".py",
   "mimetype": "text/x-python",
   "name": "python",
   "nbconvert_exporter": "python",
   "pygments_lexer": "ipython3",
   "version": "3.9.12"
  }
 },
 "nbformat": 4,
 "nbformat_minor": 4
}
